{
 "cells": [
  {
   "cell_type": "markdown",
   "id": "c309bc94-ae6d-4fb7-9bcf-e8d69d5fe267",
   "metadata": {},
   "source": [
    "# `classOrFunctionName`: Retrospective"
   ]
  },
  {
   "cell_type": "markdown",
   "id": "f267053c-ba8f-4132-a1b3-0430a9389f10",
   "metadata": {},
   "source": [
    "## What was the goal and intended behavior?"
   ]
  },
  {
   "cell_type": "markdown",
   "id": "12be81e1-5e75-48a3-a1b8-7f33b4dc87ca",
   "metadata": {},
   "source": [
    "- A few short notes or paragraphs on \"successful\" behavior\n",
    "- Small (non-working) code-snippet of what was trying to be achieved can go in here as well"
   ]
  },
  {
   "cell_type": "markdown",
   "id": "fbbb2574-2e67-4711-a967-dd650248a27b",
   "metadata": {},
   "source": [
    "## Annotated code for `classOrFunctionName`"
   ]
  },
  {
   "cell_type": "code",
   "execution_count": 2,
   "id": "7fac3801-712c-45d9-983d-47712dc175ed",
   "metadata": {},
   "outputs": [],
   "source": [
    "### Some runnable version of the source code with *many* annotations\n",
    "### Someone should be able to read and understand immediatly everything happening\n",
    "### Potentially look into a code annotater / writing one for Jupyter?"
   ]
  },
  {
   "cell_type": "markdown",
   "id": "8acca524-17b8-4c6d-91f0-d69f9e797cf8",
   "metadata": {},
   "source": [
    "## Behaviors in action"
   ]
  },
  {
   "cell_type": "markdown",
   "id": "70fe5392-f728-4218-b798-91c8ee408ba8",
   "metadata": {},
   "source": [
    "### Failed Version"
   ]
  },
  {
   "cell_type": "code",
   "execution_count": 3,
   "id": "5cd9238a-4e6b-4382-878d-ee89cbe98cfb",
   "metadata": {},
   "outputs": [],
   "source": [
    "### A full runnable example of it in action"
   ]
  },
  {
   "cell_type": "markdown",
   "id": "5ffcf1a1-4c9f-46de-8920-09a27e00e843",
   "metadata": {},
   "source": [
    "### Version I went with"
   ]
  },
  {
   "cell_type": "code",
   "execution_count": 4,
   "id": "990b9e59-ee86-4cff-8b73-004560320a4f",
   "metadata": {},
   "outputs": [],
   "source": [
    "### Full runnable example of it in action"
   ]
  },
  {
   "cell_type": "markdown",
   "id": "ecfe6a7e-2a33-46a3-9e32-62b112f6c255",
   "metadata": {},
   "source": [
    "## Why this version did not make it in"
   ]
  },
  {
   "cell_type": "markdown",
   "id": "31e01128-c374-4626-a24b-c0165902b48f",
   "metadata": {},
   "source": [
    "- Very detailed notes on why I chose to remove it from the library"
   ]
  }
 ],
 "metadata": {
  "kernelspec": {
   "display_name": "Python 3 (ipykernel)",
   "language": "python",
   "name": "python3"
  },
  "language_info": {
   "codemirror_mode": {
    "name": "ipython",
    "version": 3
   },
   "file_extension": ".py",
   "mimetype": "text/x-python",
   "name": "python",
   "nbconvert_exporter": "python",
   "pygments_lexer": "ipython3",
   "version": "3.9.7"
  }
 },
 "nbformat": 4,
 "nbformat_minor": 5
}
