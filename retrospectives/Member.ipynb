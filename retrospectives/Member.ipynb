{
 "cells": [
  {
   "cell_type": "markdown",
   "id": "c309bc94-ae6d-4fb7-9bcf-e8d69d5fe267",
   "metadata": {},
   "source": [
    "# `Member`: Retrospective"
   ]
  },
  {
   "cell_type": "markdown",
   "id": "f267053c-ba8f-4132-a1b3-0430a9389f10",
   "metadata": {},
   "source": [
    "## What was the goal and intended behavior?"
   ]
  },
  {
   "cell_type": "markdown",
   "id": "12be81e1-5e75-48a3-a1b8-7f33b4dc87ca",
   "metadata": {},
   "source": [
    "I wanted to mimic how `typing` annotations were used to try and document `Enum` members, potentially also giving them default values of their member names\n",
    "\n",
    "For example, something like the following:\n",
    "```python\n",
    "class myEnum:\n",
    "    SUNDAY:Member\n",
    "    MONDAY:Member[\"Some documentation\"]\n",
    "    TUESDAY:Member[\"A value\", \"Some documentation\"]\n",
    "```"
   ]
  },
  {
   "cell_type": "markdown",
   "id": "fbbb2574-2e67-4711-a967-dd650248a27b",
   "metadata": {},
   "source": [
    "## Annotated source code for `classOrFunctionName`"
   ]
  },
  {
   "cell_type": "code",
   "execution_count": 1,
   "id": "32ccbd3b-dfbd-45c7-b03b-7245e938b1fb",
   "metadata": {},
   "outputs": [],
   "source": [
    "import typing # We directly use the `typing` library to do this"
   ]
  },
  {
   "cell_type": "code",
   "execution_count": 29,
   "id": "aa99356e-fee6-493d-826c-56e61f92811e",
   "metadata": {},
   "outputs": [],
   "source": [
    "# All `typing` classes inherit `typing._GenericAlias`\n",
    "class _MemberGenericAlias(typing._GenericAlias, _root=True):\n",
    "    # Creates a copy of the intended `typing` class for this `Alias`\n",
    "    def copy_with(self, params):\n",
    "        return Member[params]\n",
    "    \n",
    "    # Let `==` be utilized when comparing other members\n",
    "    def __eq__(self, other):\n",
    "        if not isinstance(other, _MemberGenericAlias):\n",
    "            return NotImplemented\n",
    "        return set(self.__args__) == set(other.__args__)\n",
    "    \n",
    "    # Let the class be picklable\n",
    "    def __hash__(self):\n",
    "        return hash(frozenset(self.__args__))\n",
    "    \n",
    "    # A clean repr, showing the `value` and the `doc`\n",
    "    # Any arguments passed to MyType[a,b] (a,b in this case)\n",
    "    # Are stored in `self.__args__`\n",
    "    def __repr__(self): \n",
    "        args = list(self.__args__)\n",
    "        if len(args) > 0:\n",
    "            if isinstance(args[0], str):\n",
    "                args[0] = f'\"{args[0]}\"'\n",
    "            if len(args) == 2:\n",
    "                # Value, Documentation\n",
    "                if isinstance(args[1], str):\n",
    "                    args[1] = f'\"{args[1]}\"'\n",
    "                return f'Member[doc={args[0]}, value={args[1]}]'\n",
    "            else:\n",
    "                return f'Member[doc={args[0]}]'\n",
    "        else:\n",
    "            return f'Member[]'\n",
    "    \n",
    "    # For letting `isinstance()` work\n",
    "    def __instancecheck__(self, obj):\n",
    "        return self.__subclasscheck__(type(obj))\n",
    "    \n",
    "    # For letting `issubclass` work for each of the annotated types\n",
    "    # Probably wasn't truly needed, since these are annotated documentation\n",
    "    def __subclasscheck__(self, cls):\n",
    "        for arg in self.__args__:\n",
    "            if issubclass(cls, arg):\n",
    "                return True\n",
    "    \n",
    "    # Tell pickle how to serialize\n",
    "    def __reduce__(self):\n",
    "        func, (origin, args) = super().__reduce__()\n",
    "        return func, (Member, args)\n",
    "    \n",
    "    # Allow us to extract the passed value from the annotations\n",
    "    # Value is stored as the second member in the annotation\n",
    "    @property\n",
    "    def value(self):\n",
    "        args = self.__args__\n",
    "        if len(self.__args__) == 2:\n",
    "            return args[-1]\n",
    "        return None\n",
    "    \n",
    "    # Allow us to extract the passed docstring from the annotation\n",
    "    # The docstring is stored as the first member in the annotation\n",
    "    @property\n",
    "    def doc(self):\n",
    "        args = self.__args__\n",
    "        if len(self.__args__) > 0:\n",
    "            return args[0]\n",
    "        return None"
   ]
  },
  {
   "cell_type": "code",
   "execution_count": 30,
   "id": "7fac3801-712c-45d9-983d-47712dc175ed",
   "metadata": {},
   "outputs": [],
   "source": [
    "# To be considered a \"type\" (and essentially not do anything/have special behaviors), we use the `typing.@_SpecialForm` decorator\n",
    "@typing._SpecialForm\n",
    "def Member(self, parameters):\n",
    "    \"\"\"Member type; Member[X, Y] means documentation of X, value of Y\n",
    "    \n",
    "    Used to quickly write documented Enums that may \n",
    "    have a value of the member name, in lower case.\n",
    "    \n",
    "    To define a member type:\n",
    "      - Member[\"Some documentation\"]\n",
    "      - Member[\"Some documentation\", \"some_value\"]\n",
    "  \n",
    "    If a Member has a single value, the Enum value will be the member name, in lower case,\n",
    "    and the documentation will be that value\n",
    "    \n",
    "    If two, then the documentation the first, Enum value will be the second\n",
    "    \n",
    "    These attributes can be accessed with Member.value or Member.doc\n",
    "    \"\"\"\n",
    "    if parameters == ():\n",
    "        raise TypeError(\"Cannot take a Member without documentation\")\n",
    "    if not isinstance(parameters, tuple):\n",
    "        parameters = (parameters,)\n",
    "    return _MemberGenericAlias(self, parameters)"
   ]
  },
  {
   "cell_type": "markdown",
   "id": "8acca524-17b8-4c6d-91f0-d69f9e797cf8",
   "metadata": {},
   "source": [
    "## Behaviors in action"
   ]
  },
  {
   "cell_type": "code",
   "execution_count": 31,
   "id": "c4f549ad-729c-4b03-a665-63d2c4cb441c",
   "metadata": {},
   "outputs": [],
   "source": [
    "from fastcore import test\n",
    "# test_eq is a very basic assert test runner for =="
   ]
  },
  {
   "cell_type": "markdown",
   "id": "70fe5392-f728-4218-b798-91c8ee408ba8",
   "metadata": {},
   "source": [
    "### Failed Version"
   ]
  },
  {
   "cell_type": "code",
   "execution_count": 33,
   "id": "5cd9238a-4e6b-4382-878d-ee89cbe98cfb",
   "metadata": {},
   "outputs": [],
   "source": [
    "t = Member[\"Some documentation\"]\n",
    "test.test_eq(t.doc, \"Some documentation\")\n",
    "test.test_eq(t.value, None)\n",
    "test.test_eq(t.__repr__(), 'Member[doc=\"Some documentation\"]')\n",
    "\n",
    "t2 = Member[\"Some documentation\", \"My value\"]\n",
    "test.test_eq(t2.doc, \"Some documentation\")\n",
    "test.test_eq(t2.value, \"My value\")\n",
    "test.test_eq(t2.__repr__(), 'Member[doc=\"Some documentation\", value=\"My value\"]')\n",
    "\n",
    "t3 = Member[\"Some documentation\", 3]\n",
    "test.test_eq(t3.doc, \"Some documentation\")\n",
    "test.test_eq(t3.value, 3)\n",
    "test.test_eq(t3.__repr__(), 'Member[doc=\"Some documentation\", value=3]')"
   ]
  },
  {
   "cell_type": "markdown",
   "id": "5ffcf1a1-4c9f-46de-8920-09a27e00e843",
   "metadata": {},
   "source": [
    "### Version I went with"
   ]
  },
  {
   "cell_type": "code",
   "execution_count": 34,
   "id": "990b9e59-ee86-4cff-8b73-004560320a4f",
   "metadata": {},
   "outputs": [],
   "source": [
    "# All `typing` classes inherit `typing._GenericAlias`\n",
    "class _MemberGenericAlias(typing._GenericAlias, _root=True):\n",
    "    # Creates a copy of the intended `typing` class for this `Alias`\n",
    "    def copy_with(self, params):\n",
    "        return Member[params]\n",
    "    \n",
    "    # Let `==` be utilized when comparing other members\n",
    "    def __eq__(self, other):\n",
    "        if not isinstance(other, _MemberGenericAlias):\n",
    "            return NotImplemented\n",
    "        return set(self.__args__) == set(other.__args__)\n",
    "    \n",
    "    # Let the class be picklable\n",
    "    def __hash__(self):\n",
    "        return hash(frozenset(self.__args__))\n",
    "    \n",
    "    # A clean repr, showing the `doc`\n",
    "    # Any arguments passed to MyType[a] (a in this case)\n",
    "    # Are stored in `self.__args__`\n",
    "    def __repr__(self): \n",
    "        args = list(self.__args__)\n",
    "        if len(args) > 0:\n",
    "            return f'Member[doc=\"{args[0]}\"]'\n",
    "        return f'Member[]'\n",
    "    \n",
    "    # For letting `isinstance()` work\n",
    "    def __instancecheck__(self, obj):\n",
    "        return self.__subclasscheck__(type(obj))\n",
    "    \n",
    "    # Tell pickle how to serialize\n",
    "    def __reduce__(self):\n",
    "        func, (origin, args) = super().__reduce__()\n",
    "        return func, (Member, args)\n",
    "    \n",
    "    # Allow us to extract the passed docstring from the annotation\n",
    "    @property\n",
    "    def doc(self):\n",
    "        args = self.__args__\n",
    "        if len(self.__args__) > 0:\n",
    "            return args[0]\n",
    "        return None"
   ]
  },
  {
   "cell_type": "code",
   "execution_count": 35,
   "id": "9169f5e9-ed6f-45c0-8b95-bc3d8e6a470a",
   "metadata": {},
   "outputs": [],
   "source": [
    "# To be considered a \"type\" (and essentially not do anything/have special behaviors), we use the `typing.@_SpecialForm` decorator\n",
    "@typing._SpecialForm\n",
    "def Member(self, parameters):\n",
    "    \"\"\"Member type; Member[X] means documentation for the annotated item\n",
    "    \n",
    "    Used to quickly write documented Enums that may \n",
    "    have a value of the member name, in lower case.\n",
    "    \n",
    "    To define a member type:\n",
    "      - Member[\"Some documentation\"]\n",
    "    \n",
    "    If there is an assign statement after the Member typing, the value for that enum member will be it.\n",
    "    Otherwise it will be the member name, in lower case:\n",
    "    ```python\n",
    "    someValue:Member # Will be \"somevalue\"\n",
    "    someThing:Member[\"My thing\"] # Will have documentaiton of \"My thing\" and a value of \"something\"\n",
    "    someThing:Member[\"My thing\"] = 2 # Will have documentation of \"My thing\" and a value of 2\n",
    "    \n",
    "    The documentation can be accessed with `Member.doc`\n",
    "    \"\"\"\n",
    "    if parameters == ():\n",
    "        raise TypeError(\"Cannot take a Member without documentation\")\n",
    "    if not isinstance(parameters, (tuple, list)):\n",
    "        parameters = (parameters,)\n",
    "    if len(parameters) > 1:\n",
    "        raise ValueError(f'Member was passed more than a single value ({len(parameters)}). Please only pass in a docstring: {parameters}')\n",
    "    return _MemberGenericAlias(self, parameters)"
   ]
  },
  {
   "cell_type": "code",
   "execution_count": 36,
   "id": "ad6037e2-8550-4c00-ba5f-2b524d615c24",
   "metadata": {},
   "outputs": [],
   "source": [
    "t = Member[\"Some documentation\"]\n",
    "test.test_eq(t.doc, \"Some documentation\")\n",
    "test.test_eq(t.__repr__(), 'Member[doc=\"Some documentation\"]')\n",
    "\n",
    "with test.ExceptionExpected(ValueError, \"Member was passed more than a single value\"):\n",
    "    t2 = Member[\"My value\", \"Some documentation\"]"
   ]
  },
  {
   "cell_type": "markdown",
   "id": "ecfe6a7e-2a33-46a3-9e32-62b112f6c255",
   "metadata": {},
   "source": [
    "## Why this version did not make it in"
   ]
  },
  {
   "cell_type": "markdown",
   "id": "31e01128-c374-4626-a24b-c0165902b48f",
   "metadata": {},
   "source": [
    "Through looking at both the implementation and [twitter](https://twitter.com/TheZachMueller/status/1509352037640769536?s=20&t=SlhjMt_YDFP1XKqDsfhaXg) (but I will not deny the twitter influence), I realized that it was a bit *too* magical.\n",
    "\n",
    "I originally let it not only take in a documentation, but also a default, leaving potential usage of it to look very non-pythonic:\n",
    "```python\n",
    "@enumify\n",
    "class someEnum:\n",
    "    MONDAY:Member[\"First day of the week\", 0]\n",
    "    TUESDAY:Member[\"Second day of the week\"] # Will have a value of \"tuesday\"\n",
    "    WEDNESDAY:Member # Will have a value of \"wednesday\" and no docstring\n",
    "```"
   ]
  },
  {
   "cell_type": "markdown",
   "id": "4f50b145-4978-4f6b-bf2e-4a40b3a4d267",
   "metadata": {},
   "source": [
    "Since the goal with designing interfaces like this is it should be both intuitive to the user, and easy to read, I simplified it further to just have `Member` take in a docstring. This was based on feedback where my audience seemed to prefer an annotation like so:\n",
    "```python\n",
    "from typing import Any\n",
    "@enumify\n",
    "class someEnum:\n",
    "    MONDAY:Any = \"First day of the week\"\n",
    "    TUESDAY:Any = \"Second day of the week\", \"Some value\"\n",
    "    WEDNESDAY:Any\n",
    "```"
   ]
  },
  {
   "cell_type": "markdown",
   "id": "7d946793-3f15-4cab-bf53-fc95315962fd",
   "metadata": {},
   "source": [
    "To give us a final interface of:\n",
    "```python\n",
    "@enumify\n",
    "class someEnum:\n",
    "    MONDAY:Member[\"First day of the week\"]\n",
    "    TUESDAY:Member[\"Second day of the week\"] = \"Some value\"\n",
    "    WEDNESDAY:Member\n",
    "    THURSDAY = 3\n",
    "```\n",
    "\n",
    "I am also considering allowing a shorthand of `Member` to be `Mem`, as I think the \"`Any`\" shorthand was also part of it's preference. This would leave an API with:\n",
    "\n",
    "```python\n",
    "@enumify\n",
    "class someEnum:\n",
    "    MONDAY:Mem[\"First day of the week\"]\n",
    "    TUESDAY:Mem[\"Second day of the week\"] = \"Some value\"\n",
    "    WEDNESDAY:Mem\n",
    "    THURSDAY = 3\n",
    "```\n",
    "\n",
    "Another scope of influence I believe towards why many preferred the `Any` annotation is due to how Enum's are declared in Python. Typically it would be via an `=`, which leaves that behavior intact"
   ]
  }
 ],
 "metadata": {
  "kernelspec": {
   "display_name": "Python 3 (ipykernel)",
   "language": "python",
   "name": "python3"
  },
  "language_info": {
   "codemirror_mode": {
    "name": "ipython",
    "version": 3
   },
   "file_extension": ".py",
   "mimetype": "text/x-python",
   "name": "python",
   "nbconvert_exporter": "python",
   "pygments_lexer": "ipython3",
   "version": "3.9.7"
  }
 },
 "nbformat": 4,
 "nbformat_minor": 5
}
