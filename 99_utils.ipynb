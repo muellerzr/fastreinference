{
 "cells": [
  {
   "cell_type": "code",
   "execution_count": null,
   "id": "b08f8d4f-4ecc-4094-8a50-03b700632bf9",
   "metadata": {},
   "outputs": [],
   "source": [
    "#default_exp utils"
   ]
  },
  {
   "cell_type": "markdown",
   "id": "3d7f5f55-ebb5-4090-96ef-2a056c3c77d1",
   "metadata": {},
   "source": [
    "# Utilities\n",
    "> Various utility functionalities"
   ]
  },
  {
   "cell_type": "code",
   "execution_count": null,
   "id": "d7cf60d7-e33a-4f03-9afd-4d7ff3f34119",
   "metadata": {},
   "outputs": [],
   "source": [
    "#hide\n",
    "from nbdev.showdoc import *\n",
    "from fastcore.test import test_eq"
   ]
  },
  {
   "cell_type": "code",
   "execution_count": null,
   "id": "887f11da-9b0f-4a20-beed-4fd1f9b692bf",
   "metadata": {},
   "outputs": [],
   "source": [
    "#export\n",
    "import enum\n",
    "from typing import Any\n",
    "from functools import wraps, partial"
   ]
  },
  {
   "cell_type": "code",
   "execution_count": null,
   "id": "18a6ebc3-e103-45cd-88f4-453e2797d8e7",
   "metadata": {},
   "outputs": [],
   "source": [
    "#export\n",
    "class _DocumentedEnum(enum.Enum):\n",
    "    \"\"\"\n",
    "    An `Enum` capabile of having its members have docstrings, compatible with the functional API\n",
    "    \"\"\"\n",
    "    def __init__(self, *args):\n",
    "        \"\"\"\n",
    "        Creates a generic enumeration with potential assigning of a member docstring\n",
    "\n",
    "        Should be passed in the form of:\n",
    "          value, docstring\n",
    "        \"\"\"\n",
    "        if len(args) == 2:\n",
    "            # Have value, docstring\n",
    "            self._value_, self.__doc__ = args\n",
    "        else:\n",
    "            # Just value\n",
    "            self._value_ = args[0]\n",
    "    \n",
    "    def __str__(self): return str(self.value)\n",
    "    def __eq__(self, other): return getattr(other, \"value\", other) == self.value\n",
    "    def __ne__(self, other): return getattr(other, \"value\", other) != self.value"
   ]
  },
  {
   "cell_type": "code",
   "execution_count": null,
   "id": "57cb728f-a919-445d-ac47-78568f6d070c",
   "metadata": {},
   "outputs": [],
   "source": [
    "#hide\n",
    "_da = [[\"addition\", (\"addition\", \"Sum of two numbers\")], [\"subtraction\", (\"subtraction\")]]\n",
    "\n",
    "_d = _DocumentedEnum(\"test_enum\", _da)\n",
    "test_eq(hasattr(_d, \"addition\"), True)\n",
    "test_eq(str(_d.addition), \"addition\")\n",
    "test_eq(_d.addition.__doc__, \"Sum of two numbers\")\n",
    "test_eq(_d.addition == \"addition\", True)\n",
    "\n",
    "test_eq(str(_d.subtraction), \"subtraction\")\n",
    "test_eq(_d.subtraction.__doc__, \"An enumeration.\")\n",
    "test_eq(_d.subtraction != \"addition\", True)"
   ]
  },
  {
   "cell_type": "code",
   "execution_count": null,
   "id": "1b544483-856a-40bc-bd08-fc8bd2ce31e2",
   "metadata": {},
   "outputs": [],
   "source": [
    "#export\n",
    "def _assign_annotations(cls, special=None):\n",
    "    \"\"\"\n",
    "    Creates a `_DocumentedEnum` based on annotations in `cls`\n",
    "    \"\"\"\n",
    "    cls_annotations = cls.__dict__.get(\"__annotations__\", {})\n",
    "    names = []\n",
    "    for name, typ in list(cls_annotations.items()):\n",
    "        member = [name]\n",
    "        value = name.lower()\n",
    "        cls_annotations.pop(name)\n",
    "        doc = getattr(cls, name, None)\n",
    "        if doc is not None:\n",
    "            member.append((value,doc))\n",
    "        else:\n",
    "            member.append(value)\n",
    "        names.append(member)\n",
    "    if special is not None:\n",
    "        for name in special:\n",
    "            value, doc = getattr(cls, name, None)\n",
    "            names.append([name, (value, doc)])\n",
    "    new_cls = _DocumentedEnum(value=cls.__name__, names=names)\n",
    "    new_cls.__doc__ = cls.__doc__\n",
    "    return new_cls"
   ]
  },
  {
   "cell_type": "code",
   "execution_count": null,
   "id": "f62df248-9975-4e5b-9519-f441afd53b2d",
   "metadata": {},
   "outputs": [],
   "source": [
    "#export\n",
    "def enumify(cls=None, *, special:list=None):\n",
    "    \"\"\"\n",
    "    A decorator to turn `cls` into an Enum class with member values as property names.\n",
    "    \n",
    "    If any Enum member is defined as a regular tuple of (value, doc), they should be passed in\n",
    "    to `special`\n",
    "    \n",
    "    Classes should use the following annotation when defining them:\n",
    "    ```python\n",
    "    from typing import Any\n",
    "    @enumify(special=\"name_three\")\n",
    "    class MyClass:\n",
    "      NAME:Any = \"Some documented enum value\"\n",
    "      name_two:Any # An undocumented enum value\n",
    "      name_three = \"A value\", \"Some documentation\"\n",
    "    ```\n",
    "    \"\"\"\n",
    "    def wrap(cls, special=None): return _assign_annotations(cls, special)\n",
    "\n",
    "    if cls is None and special is None:\n",
    "        return wrap\n",
    "    if not isinstance(special, list) and special is not None: \n",
    "        special = [special]\n",
    "    if cls is None:\n",
    "        return partial(enumify, special=special)\n",
    "    return wrap(cls, special)"
   ]
  },
  {
   "cell_type": "code",
   "execution_count": null,
   "id": "8a2ab1be-9b54-4d5e-922f-c3f6c9dffa67",
   "metadata": {},
   "outputs": [],
   "source": [
    "@enumify(special=[\"WEDNESDAY\"])\n",
    "class DaysOfWeek:\n",
    "    MONDAY:Any = \"First day of the week\"\n",
    "    TUESDAY:Any\n",
    "    WEDNESDAY = \"Wed\", \"Second day of the week\"\n",
    "    \n",
    "test_eq(DaysOfWeek.MONDAY, \"monday\")\n",
    "test_eq(DaysOfWeek.MONDAY.__doc__, \"First day of the week\")\n",
    "test_eq(DaysOfWeek.TUESDAY, \"tuesday\")\n",
    "test_eq(DaysOfWeek.TUESDAY.__doc__, None)\n",
    "test_eq(DaysOfWeek.WEDNESDAY, \"Wed\")\n",
    "test_eq(DaysOfWeek.WEDNESDAY.__doc__, \"Second day of the week\")"
   ]
  }
 ],
 "metadata": {
  "kernelspec": {
   "display_name": "Python 3 (ipykernel)",
   "language": "python",
   "name": "python3"
  }
 },
 "nbformat": 4,
 "nbformat_minor": 5
}
