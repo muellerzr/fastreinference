{
 "cells": [
  {
   "cell_type": "code",
   "execution_count": 1,
   "id": "b08f8d4f-4ecc-4094-8a50-03b700632bf9",
   "metadata": {},
   "outputs": [],
   "source": [
    "#default_exp typing"
   ]
  },
  {
   "cell_type": "markdown",
   "id": "3d7f5f55-ebb5-4090-96ef-2a056c3c77d1",
   "metadata": {},
   "source": [
    "# Typing\n",
    "> Custom types used throughout the library"
   ]
  },
  {
   "cell_type": "code",
   "execution_count": 28,
   "id": "d7cf60d7-e33a-4f03-9afd-4d7ff3f34119",
   "metadata": {},
   "outputs": [],
   "source": [
    "#hide\n",
    "from nbdev.showdoc import *\n",
    "from fastcore.test import test_eq"
   ]
  },
  {
   "cell_type": "code",
   "execution_count": 29,
   "id": "887f11da-9b0f-4a20-beed-4fd1f9b692bf",
   "metadata": {},
   "outputs": [],
   "source": [
    "#export\n",
    "import enum\n",
    "import inspect\n",
    "import typing\n",
    "from functools import wraps, partial"
   ]
  },
  {
   "cell_type": "code",
   "execution_count": 30,
   "id": "253f36e9-2a88-4ab0-aa5a-301b5b897e01",
   "metadata": {},
   "outputs": [],
   "source": [
    "#export\n",
    "class Member:\n",
    "    \"\"\"Annotation only type to be used within `@enumify`.\n",
    "    \n",
    "    Used to denote when a member will be of type `str`,\n",
    "    with the value being its member name in lowercase.\n",
    "    \"\"\"\n",
    "    def __init__(self, *args):\n",
    "        raise TypeError(\"Member is a documentation type, cannot be instantiated\")\n",
    "\n",
    "Mem = Member"
   ]
  },
  {
   "cell_type": "code",
   "execution_count": 31,
   "id": "ab25e298-6d59-493f-9dc0-2fa6fba2431f",
   "metadata": {},
   "outputs": [],
   "source": [
    "from fastcore.test import ExceptionExpected\n",
    "\n",
    "with ExceptionExpected(TypeError, \"Member is a documentation type, cannot be instantiated\"):\n",
    "    t = Member()\n",
    "\n",
    "with ExceptionExpected(TypeError, \"Member is a documentation type, cannot be instantiated\"):\n",
    "    t = Mem()"
   ]
  },
  {
   "cell_type": "code",
   "execution_count": 49,
   "id": "815075c2-2ed0-4d60-8e10-549681af9366",
   "metadata": {},
   "outputs": [],
   "source": [
    "#export\n",
    "class Documented:\n",
    "    \"\"\"Annotation only type to be used within `@enumify`.\n",
    "    \n",
    "    Used to denote when a member will have a docstring as its last assert.\n",
    "    \"\"\"\n",
    "    def __init__(self, *args):\n",
    "        raise TypeError(\"Documented is a documentation type, cannot be instantiated\")\n",
    "\n",
    "Doc = Documented"
   ]
  },
  {
   "cell_type": "code",
   "execution_count": 50,
   "id": "42eb4a63-b02a-4271-95bd-4cb1eaa56c7f",
   "metadata": {},
   "outputs": [],
   "source": [
    "from fastcore.test import ExceptionExpected\n",
    "\n",
    "with ExceptionExpected(TypeError, \"Documented is a documentation type, cannot be instantiated\"):\n",
    "    t = Documented()\n",
    "\n",
    "with ExceptionExpected(TypeError, \"Documented is a documentation type, cannot be instantiated\"):\n",
    "    t = Doc()"
   ]
  },
  {
   "cell_type": "code",
   "execution_count": 60,
   "id": "4e8e2cdf-8007-4737-8535-fe1c7a5a5b5c",
   "metadata": {},
   "outputs": [],
   "source": [
    "#export\n",
    "class FunctionalEnum(enum.Enum):\n",
    "    \"\"\"\n",
    "    An `Enum` class implementing `__ne__`, `__eq__`, and `__str__` to compare `self.value`.\n",
    "    \n",
    "    Compatible with the functional API.\n",
    "    \"\"\"\n",
    "    def __str__(self): return str(self.value)\n",
    "    def __eq__(self, other): return getattr(other, \"value\", other) == self.value\n",
    "    def __ne__(self, other): return getattr(other, \"value\", other) != self.value"
   ]
  },
  {
   "cell_type": "code",
   "execution_count": 61,
   "id": "27bd07be-9624-4cd2-9bfb-d9e5097c1de4",
   "metadata": {},
   "outputs": [],
   "source": [
    "_da = [[\"zero\", 0], [\"one\", 1]]\n",
    "\n",
    "_d = FunctionalEnum(\"test_enum\", _da)\n",
    "test_eq(hasattr(_d, \"zero\"), True)\n",
    "test_eq(str(_d.zero), \"0\")\n",
    "test_eq(_d.zero == 0, True)\n",
    "\n",
    "test_eq(hasattr(_d, \"one\"), True)\n",
    "test_eq(str(_d.one), \"1\")\n",
    "test_eq(_d.one == 1, True)"
   ]
  },
  {
   "cell_type": "code",
   "execution_count": 62,
   "id": "18a6ebc3-e103-45cd-88f4-453e2797d8e7",
   "metadata": {},
   "outputs": [],
   "source": [
    "#export\n",
    "class DocumentedEnum(FunctionalEnum):\n",
    "    \"\"\"\n",
    "    An `Enum` capabile of having its members have docstrings.\n",
    "    \n",
    "    Inherits `FunctionalEnum` to allow for logic comparison via `==`, `!=`,\n",
    "    and string representation `str()` of `self.value`.\n",
    "    \"\"\"\n",
    "    def __init__(self, *args):\n",
    "        \"\"\"\n",
    "        Creates a generic enumeration with assigning of a member docstring\n",
    "\n",
    "        Should be passed in the form of:\n",
    "          docstring, value\n",
    "        \"\"\"\n",
    "        if args[0] is not None:\n",
    "            self.__doc__ = args[0]\n",
    "        if len(args) > 1:\n",
    "            self._value_ = args[1]\n",
    "        else:\n",
    "            self._value_ = None"
   ]
  },
  {
   "cell_type": "code",
   "execution_count": 63,
   "id": "57cb728f-a919-445d-ac47-78568f6d070c",
   "metadata": {},
   "outputs": [],
   "source": [
    "_da = [[\"addition\", (\"Sum of two numbers\", \"addition\")], [\"subtraction\", (\"Some documentation\")], [\"multiplication\", (None, \"multiplication\")]]\n",
    "\n",
    "_d = DocumentedEnum(\"test_enum\", _da)\n",
    "test_eq(hasattr(_d, \"addition\"), True)\n",
    "test_eq(str(_d.addition), \"addition\")\n",
    "test_eq(_d.addition.__doc__, \"Sum of two numbers\")\n",
    "test_eq(_d.addition == \"addition\", True)\n",
    "\n",
    "test_eq(str(_d.subtraction), str(None))\n",
    "test_eq(_d.subtraction.__doc__, \"Some documentation\")\n",
    "test_eq(_d.subtraction != \"addition\", True)\n",
    "\n",
    "test_eq(str(_d.multiplication), \"multiplication\")\n",
    "test_eq(_d.multiplication.__doc__, \"An enumeration.\")\n",
    "test_eq(_d.multiplication != \"addition\", True)"
   ]
  },
  {
   "cell_type": "code",
   "execution_count": 70,
   "id": "94a85f0b-ed36-4994-afbc-5f3da9a3b6dc",
   "metadata": {},
   "outputs": [],
   "source": [
    "#export\n",
    "def multiassert(type, types:list=[]):\n",
    "    \"\"\"Runs `==` on all `types`\n",
    "    \n",
    "    If any are `True`, returns `True`.\n",
    "    \"\"\"\n",
    "    for t in types:\n",
    "        if t == type:\n",
    "            return True\n",
    "    return False"
   ]
  },
  {
   "cell_type": "code",
   "execution_count": 75,
   "id": "be1583e5-cc5e-49a3-8694-efb19cdd2f4a",
   "metadata": {},
   "outputs": [],
   "source": [
    "#export\n",
    "def _assign_annotations(cls):\n",
    "    \"\"\"\n",
    "    Creates a `DocumentedEnum` based on annotations and asserts in `cls`\n",
    "    \"\"\"\n",
    "    # First, filter out all but what we need: the doc, annotations, and any set members\n",
    "    d = dict(cls.__dict__)\n",
    "    _keep = [\"__doc__\", \"__annotations__\"]\n",
    "    for key in list(d):\n",
    "        if key.startswith('_') and key not in _keep:\n",
    "            d.pop(key, None)\n",
    "    names = [] # Names for our enum\n",
    "    keys = []\n",
    "    # Next get our members with out values\n",
    "    for name, typ in list(d[\"__annotations__\"].items()):\n",
    "        if not multiassert(typ, [Member, Documented, tuple[Member, Documented]]):\n",
    "            continue\n",
    "        if typ == tuple[Member, Documented]:\n",
    "            doc = getattr(cls, name)\n",
    "            value = name.lower()\n",
    "        elif typ == Documented:\n",
    "            value, doc = getattr(cls, name)\n",
    "        else: # Emplicit else for raw Member\n",
    "            doc = \"An enumeration.\"\n",
    "            value = name.lower()\n",
    "        names.append([name, (doc, value)])\n",
    "        keys.append(name)\n",
    "    \n",
    "    # For any values set like a regular enum\n",
    "    for name in d:\n",
    "        if name not in keys and not name.startswith(\"_\"):\n",
    "            names.append([name, (\"An enumeration.\", getattr(cls, name))])\n",
    "            keys.append(name)\n",
    "    new_cls = DocumentedEnum(value=cls.__name__, names=names)\n",
    "    new_cls.__doc__ = cls.__doc__\n",
    "    return new_cls"
   ]
  },
  {
   "cell_type": "code",
   "execution_count": 78,
   "id": "4641a7e2-c410-4752-adaf-2d00750fdf83",
   "metadata": {},
   "outputs": [],
   "source": [
    "#hide\n",
    "class DaysOfWeek:\n",
    "    MONDAY:tuple[Member,Documented] = \"First day of the week\"\n",
    "    TUESDAY:Member\n",
    "    WEDNESDAY:Documented = \"Wed\", \"Third day of the week\"\n",
    "    THURSDAY:int = 0\n",
    "    \n",
    "NewAnnotation = _assign_annotations(DaysOfWeek)\n",
    "test_eq(NewAnnotation.MONDAY, \"monday\")\n",
    "test_eq(NewAnnotation.MONDAY.__doc__, \"First day of the week\")\n",
    "test_eq(NewAnnotation.TUESDAY, \"tuesday\")\n",
    "test_eq(NewAnnotation.TUESDAY.__doc__, \"An enumeration.\")\n",
    "test_eq(NewAnnotation.WEDNESDAY, \"Wed\")\n",
    "test_eq(NewAnnotation.WEDNESDAY.__doc__, \"Third day of the week\")\n",
    "test_eq(NewAnnotation.THURSDAY, 0)\n",
    "test_eq(NewAnnotation.THURSDAY.__doc__, \"An enumeration.\")"
   ]
  },
  {
   "cell_type": "code",
   "execution_count": 80,
   "id": "2917cb96-0d71-4019-8c9d-8226ffcb59df",
   "metadata": {},
   "outputs": [],
   "source": [
    "#hide\n",
    "class DaysOfWeek:\n",
    "    MONDAY:tuple[Mem,Doc] = \"First day of the week\"\n",
    "    TUESDAY:Mem\n",
    "    WEDNESDAY:Doc = \"Wed\", \"Third day of the week\"\n",
    "    THURSDAY:int = 0\n",
    "    \n",
    "NewAnnotation = _assign_annotations(DaysOfWeek)\n",
    "test_eq(NewAnnotation.MONDAY, \"monday\")\n",
    "test_eq(NewAnnotation.MONDAY.__doc__, \"First day of the week\")\n",
    "test_eq(NewAnnotation.TUESDAY, \"tuesday\")\n",
    "test_eq(NewAnnotation.TUESDAY.__doc__, \"An enumeration.\")\n",
    "test_eq(NewAnnotation.WEDNESDAY, \"Wed\")\n",
    "test_eq(NewAnnotation.WEDNESDAY.__doc__, \"Third day of the week\")\n",
    "test_eq(NewAnnotation.THURSDAY, 0)\n",
    "test_eq(NewAnnotation.THURSDAY.__doc__, \"An enumeration.\")"
   ]
  },
  {
   "cell_type": "markdown",
   "id": "347f18bb-c5f3-454f-8b5c-586d2a5359fc",
   "metadata": {},
   "source": [
    "## enumify"
   ]
  },
  {
   "cell_type": "code",
   "execution_count": 81,
   "id": "f62df248-9975-4e5b-9519-f441afd53b2d",
   "metadata": {},
   "outputs": [],
   "source": [
    "#export\n",
    "def enumify(cls=None):\n",
    "    \"\"\"\n",
    "    A decorator to turn `cls` into an Enum class with member values as property names, and potentially with documentation\n",
    "    \n",
    "    Should be documented with the `Member` type with the following annotation:\n",
    "    ```python\n",
    "    from fastreinference.typing import Member\n",
    "    @enumify\n",
    "    class MyClass:\n",
    "      NAME:Member[\"Some documented enum value\"]\n",
    "      name_two:Member # An undocumented enum value\n",
    "      name_three:Member[\"Some documentation\"] = \"some value\"\n",
    "    ```\n",
    "    \n",
    "    Can also use the shorthand `Mem` type\n",
    "    \"\"\"\n",
    "    def wrap(cls): return _assign_annotations(cls)\n",
    "    if cls is None:\n",
    "        return partial(enumify)\n",
    "    return wrap(cls)"
   ]
  },
  {
   "cell_type": "code",
   "execution_count": 83,
   "id": "8a2ab1be-9b54-4d5e-922f-c3f6c9dffa67",
   "metadata": {},
   "outputs": [],
   "source": [
    "@enumify\n",
    "class DaysOfWeek:\n",
    "    MONDAY:tuple[Member,Documented] = \"First day of the week\"\n",
    "    TUESDAY:Member\n",
    "    WEDNESDAY:Documented = \"Wed\", \"Third day of the week\"\n",
    "    THURSDAY:Documented = 0, \"Fourth day of the week\"\n",
    "    \n",
    "test_eq(DaysOfWeek.MONDAY, \"monday\")\n",
    "test_eq(DaysOfWeek.MONDAY.__doc__, \"First day of the week\")\n",
    "test_eq(DaysOfWeek.TUESDAY, \"tuesday\")\n",
    "test_eq(DaysOfWeek.TUESDAY.__doc__, \"An enumeration.\")\n",
    "test_eq(DaysOfWeek.WEDNESDAY, \"Wed\")\n",
    "test_eq(DaysOfWeek.WEDNESDAY.__doc__, \"Third day of the week\")\n",
    "test_eq(DaysOfWeek.THURSDAY, 0)\n",
    "test_eq(DaysOfWeek.THURSDAY.__doc__, \"Fourth day of the week\")"
   ]
  },
  {
   "cell_type": "code",
   "execution_count": 84,
   "id": "fcf5b707-12d0-460e-a554-2f745b26c598",
   "metadata": {},
   "outputs": [],
   "source": [
    "@enumify\n",
    "class DaysOfWeek:\n",
    "    MONDAY:tuple[Mem,Doc] = \"First day of the week\"\n",
    "    TUESDAY:Mem\n",
    "    WEDNESDAY:Doc = \"Wed\", \"Third day of the week\"\n",
    "    THURSDAY:Doc = 0, \"Fourth day of the week\"\n",
    "    \n",
    "test_eq(DaysOfWeek.MONDAY, \"monday\")\n",
    "test_eq(DaysOfWeek.MONDAY.__doc__, \"First day of the week\")\n",
    "test_eq(DaysOfWeek.TUESDAY, \"tuesday\")\n",
    "test_eq(DaysOfWeek.TUESDAY.__doc__, \"An enumeration.\")\n",
    "test_eq(DaysOfWeek.WEDNESDAY, \"Wed\")\n",
    "test_eq(DaysOfWeek.WEDNESDAY.__doc__, \"Third day of the week\")\n",
    "test_eq(DaysOfWeek.THURSDAY, 0)\n",
    "test_eq(DaysOfWeek.THURSDAY.__doc__, \"Fourth day of the week\")"
   ]
  },
  {
   "cell_type": "code",
   "execution_count": 85,
   "id": "88646de8-dacd-4f1d-9ea9-091eb6cde772",
   "metadata": {},
   "outputs": [],
   "source": [
    "from dataclasses import dataclass"
   ]
  },
  {
   "cell_type": "code",
   "execution_count": 90,
   "id": "1981e50a-a167-458b-a1de-bdc10f387a8b",
   "metadata": {},
   "outputs": [],
   "source": [
    "@dataclass\n",
    "class SomeClass:\n",
    "    o:Documented = \"foo\""
   ]
  },
  {
   "cell_type": "code",
   "execution_count": 92,
   "id": "4a5571e6-c840-4af2-9e27-8e16f14d0a0b",
   "metadata": {},
   "outputs": [
    {
     "data": {
      "text/plain": [
       "\u001b[0;31mSignature:\u001b[0m\n",
       "\u001b[0mdataclass\u001b[0m\u001b[0;34m(\u001b[0m\u001b[0;34m\u001b[0m\n",
       "\u001b[0;34m\u001b[0m    \u001b[0mcls\u001b[0m\u001b[0;34m=\u001b[0m\u001b[0;32mNone\u001b[0m\u001b[0;34m,\u001b[0m\u001b[0;34m\u001b[0m\n",
       "\u001b[0;34m\u001b[0m    \u001b[0;34m/\u001b[0m\u001b[0;34m,\u001b[0m\u001b[0;34m\u001b[0m\n",
       "\u001b[0;34m\u001b[0m    \u001b[0;34m*\u001b[0m\u001b[0;34m,\u001b[0m\u001b[0;34m\u001b[0m\n",
       "\u001b[0;34m\u001b[0m    \u001b[0minit\u001b[0m\u001b[0;34m=\u001b[0m\u001b[0;32mTrue\u001b[0m\u001b[0;34m,\u001b[0m\u001b[0;34m\u001b[0m\n",
       "\u001b[0;34m\u001b[0m    \u001b[0mrepr\u001b[0m\u001b[0;34m=\u001b[0m\u001b[0;32mTrue\u001b[0m\u001b[0;34m,\u001b[0m\u001b[0;34m\u001b[0m\n",
       "\u001b[0;34m\u001b[0m    \u001b[0meq\u001b[0m\u001b[0;34m=\u001b[0m\u001b[0;32mTrue\u001b[0m\u001b[0;34m,\u001b[0m\u001b[0;34m\u001b[0m\n",
       "\u001b[0;34m\u001b[0m    \u001b[0morder\u001b[0m\u001b[0;34m=\u001b[0m\u001b[0;32mFalse\u001b[0m\u001b[0;34m,\u001b[0m\u001b[0;34m\u001b[0m\n",
       "\u001b[0;34m\u001b[0m    \u001b[0munsafe_hash\u001b[0m\u001b[0;34m=\u001b[0m\u001b[0;32mFalse\u001b[0m\u001b[0;34m,\u001b[0m\u001b[0;34m\u001b[0m\n",
       "\u001b[0;34m\u001b[0m    \u001b[0mfrozen\u001b[0m\u001b[0;34m=\u001b[0m\u001b[0;32mFalse\u001b[0m\u001b[0;34m,\u001b[0m\u001b[0;34m\u001b[0m\n",
       "\u001b[0;34m\u001b[0m\u001b[0;34m)\u001b[0m\u001b[0;34m\u001b[0m\u001b[0;34m\u001b[0m\u001b[0m\n",
       "\u001b[0;31mDocstring:\u001b[0m\n",
       "Returns the same class as was passed in, with dunder methods\n",
       "added based on the fields defined in the class.\n",
       "\n",
       "Examines PEP 526 __annotations__ to determine fields.\n",
       "\n",
       "If init is true, an __init__() method is added to the class. If\n",
       "repr is true, a __repr__() method is added. If order is true, rich\n",
       "comparison dunder methods are added. If unsafe_hash is true, a\n",
       "__hash__() method function is added. If frozen is true, fields may\n",
       "not be assigned to after instance creation.\n",
       "\u001b[0;31mFile:\u001b[0m      /opt/conda/lib/python3.9/dataclasses.py\n",
       "\u001b[0;31mType:\u001b[0m      function\n"
      ]
     },
     "metadata": {},
     "output_type": "display_data"
    }
   ],
   "source": [
    "dataclass?"
   ]
  },
  {
   "cell_type": "code",
   "execution_count": null,
   "id": "43982cc4-c614-48b6-a94f-e3525ac62427",
   "metadata": {},
   "outputs": [],
   "source": []
  }
 ],
 "metadata": {
  "kernelspec": {
   "display_name": "Python 3 (ipykernel)",
   "language": "python",
   "name": "python3"
  },
  "language_info": {
   "codemirror_mode": {
    "name": "ipython",
    "version": 3
   },
   "file_extension": ".py",
   "mimetype": "text/x-python",
   "name": "python",
   "nbconvert_exporter": "python",
   "pygments_lexer": "ipython3",
   "version": "3.9.7"
  }
 },
 "nbformat": 4,
 "nbformat_minor": 5
}
