{
 "cells": [
  {
   "cell_type": "code",
   "execution_count": null,
   "id": "b08f8d4f-4ecc-4094-8a50-03b700632bf9",
   "metadata": {},
   "outputs": [],
   "source": [
    "#default_exp typing"
   ]
  },
  {
   "cell_type": "markdown",
   "id": "3d7f5f55-ebb5-4090-96ef-2a056c3c77d1",
   "metadata": {},
   "source": [
    "# Typing\n",
    "> Custom types used throughout the library"
   ]
  },
  {
   "cell_type": "code",
   "execution_count": null,
   "id": "d7cf60d7-e33a-4f03-9afd-4d7ff3f34119",
   "metadata": {},
   "outputs": [],
   "source": [
    "#hide\n",
    "from nbdev.showdoc import *\n",
    "from fastcore.test import test_eq"
   ]
  },
  {
   "cell_type": "code",
   "execution_count": null,
   "id": "887f11da-9b0f-4a20-beed-4fd1f9b692bf",
   "metadata": {},
   "outputs": [],
   "source": [
    "#export\n",
    "import enum\n",
    "import inspect\n",
    "import typing\n",
    "from typing import Any\n",
    "from functools import wraps, partial"
   ]
  },
  {
   "cell_type": "markdown",
   "id": "d3db99cb-61dc-434a-acd0-fe90453e952a",
   "metadata": {},
   "source": [
    "## The Member Class"
   ]
  },
  {
   "cell_type": "code",
   "execution_count": null,
   "id": "fd57d8dd-72aa-446b-a2ba-956276eee5c4",
   "metadata": {},
   "outputs": [],
   "source": [
    "#export\n",
    "class _MemberGenericAlias(typing._GenericAlias, _root=True):\n",
    "    def copy_with(self, params):\n",
    "        return Member[params]\n",
    "    \n",
    "    def __eq__(self, other):\n",
    "        if not isinstance(other, _MemberGenericAlias):\n",
    "            return NotImplemented\n",
    "        return set(self.__args__) == set(other.__args__)\n",
    "    \n",
    "    def __hash__(self):\n",
    "        return hash(frozenset(self.__args__))\n",
    "    \n",
    "    def __repr__(self): \n",
    "        args = list(self.__args__)\n",
    "        if len(args) > 0:\n",
    "            return f'Member[doc=\"{args[0]}\"]'\n",
    "        return f'Member[]'\n",
    "    \n",
    "    def __instancecheck__(self, obj):\n",
    "        return self.__subclasscheck__(type(obj))\n",
    "    \n",
    "    def __reduce__(self):\n",
    "        func, (origin, args) = super().__reduce__()\n",
    "        return func, (Member, args)\n",
    "    \n",
    "    @property\n",
    "    def doc(self):\n",
    "        args = self.__args__\n",
    "        if len(self.__args__) > 0:\n",
    "            return args[0]\n",
    "        return None"
   ]
  },
  {
   "cell_type": "code",
   "execution_count": null,
   "id": "253f36e9-2a88-4ab0-aa5a-301b5b897e01",
   "metadata": {},
   "outputs": [],
   "source": [
    "#export\n",
    "@typing._SpecialForm\n",
    "def Member(self, parameters):\n",
    "    \"\"\"Member type; Member[X] means documentation for the annotated item\n",
    "    \n",
    "    Used to quickly write documented Enums that may \n",
    "    have a value of the member name, in lower case.\n",
    "    \n",
    "    To define a member type:\n",
    "      - Member[\"Some documentation\"]\n",
    "    \n",
    "    If there is an assign statement after the Member typing, the value for that enum member will be it.\n",
    "    Otherwise it will be the member name, in lower case:\n",
    "    ```python\n",
    "    someValue:Member # Will be \"somevalue\"\n",
    "    someThing:Member[\"My thing\"] # Will have documentaiton of \"My thing\" and a value of \"something\"\n",
    "    someThing:Member[\"My thing\"] = 2 # Will have documentation of \"My thing\" and a value of 2\n",
    "    ```\n",
    "    \n",
    "    The documentation can be accessed with `Member.doc`\n",
    "    \"\"\"\n",
    "    if parameters == ():\n",
    "        raise TypeError(\"Cannot take a Member without documentation\")\n",
    "    if not isinstance(parameters, (tuple, list)):\n",
    "        parameters = (parameters,)\n",
    "    if len(parameters) > 1:\n",
    "        raise ValueError(f'Member was passed more than a single value ({len(parameters)}). Please only pass in a docstring: {parameters}')\n",
    "    return _MemberGenericAlias(self, parameters)"
   ]
  },
  {
   "cell_type": "code",
   "execution_count": null,
   "id": "ab25e298-6d59-493f-9dc0-2fa6fba2431f",
   "metadata": {},
   "outputs": [],
   "source": [
    "from fastcore.test import ExceptionExpected\n",
    "\n",
    "t = Member[\"Some documentation\"]\n",
    "test_eq(t.doc, \"Some documentation\")\n",
    "test_eq(t.__repr__(), 'Member[doc=\"Some documentation\"]')\n",
    "\n",
    "with ExceptionExpected(ValueError, \"Member was passed more than a single value\"):\n",
    "    t2 = Member[\"My value\", \"Some documentation\"]"
   ]
  },
  {
   "cell_type": "code",
   "execution_count": null,
   "id": "cf61a347-d50e-4825-9927-b87c0e47f462",
   "metadata": {},
   "outputs": [],
   "source": [
    "#export\n",
    "@typing._SpecialForm\n",
    "def Mem(self, parameters):\n",
    "    \"Shorthand version of `Member`\"\n",
    "    return Member[parameters]"
   ]
  },
  {
   "cell_type": "code",
   "execution_count": null,
   "id": "ff8bf662-3ce3-4c3b-9b03-75ab410b037f",
   "metadata": {},
   "outputs": [],
   "source": [
    "t = Mem[\"Some documentation\"]\n",
    "test_eq(t.doc, \"Some documentation\")\n",
    "test_eq(t.__repr__(), 'Member[doc=\"Some documentation\"]')\n",
    "\n",
    "with ExceptionExpected(ValueError, \"Member was passed more than a single value\"):\n",
    "    t2 = Mem[\"My value\", \"Some documentation\"]"
   ]
  },
  {
   "cell_type": "code",
   "execution_count": null,
   "id": "4e8e2cdf-8007-4737-8535-fe1c7a5a5b5c",
   "metadata": {},
   "outputs": [],
   "source": [
    "#export\n",
    "class FunctionalEnum(enum.Enum):\n",
    "    \"\"\"\n",
    "    An `Enum` class implementing `__ne__`, `__eq__`, and `__str__` to compare `self.value`.\n",
    "    \n",
    "    Compatible with the functional API.\n",
    "    \"\"\"\n",
    "    def __str__(self): return str(self.value)\n",
    "    def __eq__(self, other): return getattr(other, \"value\", other) == self.value\n",
    "    def __ne__(self, other): return getattr(other, \"value\", other) != self.value"
   ]
  },
  {
   "cell_type": "code",
   "execution_count": null,
   "id": "27bd07be-9624-4cd2-9bfb-d9e5097c1de4",
   "metadata": {},
   "outputs": [],
   "source": [
    "_da = [[\"zero\", 0], [\"one\", 1]]\n",
    "\n",
    "_d = FunctionalEnum(\"test_enum\", _da)\n",
    "test_eq(hasattr(_d, \"zero\"), True)\n",
    "test_eq(str(_d.zero), \"0\")\n",
    "test_eq(_d.zero == 0, True)\n",
    "\n",
    "test_eq(hasattr(_d, \"one\"), True)\n",
    "test_eq(str(_d.one), \"1\")\n",
    "test_eq(_d.one == 1, True)"
   ]
  },
  {
   "cell_type": "code",
   "execution_count": null,
   "id": "18a6ebc3-e103-45cd-88f4-453e2797d8e7",
   "metadata": {},
   "outputs": [],
   "source": [
    "#export\n",
    "class DocumentedEnum(FunctionalEnum):\n",
    "    \"\"\"\n",
    "    An `Enum` capabile of having its members have docstrings.\n",
    "    \n",
    "    Inherits `FunctionalEnum` to allow for logic comparison via `==`, `!=`,\n",
    "    and string representation `str()` of `self.value`\n",
    "    \"\"\"\n",
    "    def __init__(self, *args):\n",
    "        \"\"\"\n",
    "        Creates a generic enumeration with assigning of a member docstring\n",
    "\n",
    "        Should be passed in the form of:\n",
    "          docstring, value\n",
    "        \"\"\"\n",
    "        if args[0] is not None:\n",
    "            self.__doc__ = args[0]\n",
    "        if len(args) > 1:\n",
    "            self._value_ = args[1]\n",
    "        else:\n",
    "            self._value_ = None"
   ]
  },
  {
   "cell_type": "code",
   "execution_count": null,
   "id": "57cb728f-a919-445d-ac47-78568f6d070c",
   "metadata": {},
   "outputs": [],
   "source": [
    "_da = [[\"addition\", (\"Sum of two numbers\", \"addition\")], [\"subtraction\", (\"Some documentation\")], [\"multiplication\", (None, \"multiplication\")]]\n",
    "\n",
    "_d = DocumentedEnum(\"test_enum\", _da)\n",
    "test_eq(hasattr(_d, \"addition\"), True)\n",
    "test_eq(str(_d.addition), \"addition\")\n",
    "test_eq(_d.addition.__doc__, \"Sum of two numbers\")\n",
    "test_eq(_d.addition == \"addition\", True)\n",
    "\n",
    "test_eq(str(_d.subtraction), str(None))\n",
    "test_eq(_d.subtraction.__doc__, \"Some documentation\")\n",
    "test_eq(_d.subtraction != \"addition\", True)\n",
    "\n",
    "test_eq(str(_d.multiplication), \"multiplication\")\n",
    "test_eq(_d.multiplication.__doc__, \"An enumeration.\")\n",
    "test_eq(_d.multiplication != \"addition\", True)"
   ]
  },
  {
   "cell_type": "code",
   "execution_count": null,
   "id": "be1583e5-cc5e-49a3-8694-efb19cdd2f4a",
   "metadata": {},
   "outputs": [],
   "source": [
    "#export\n",
    "def _assign_annotations(cls):\n",
    "    \"\"\"\n",
    "    Creates a `DocumentedEnum` based on annotations and asserts in `cls`\n",
    "    \"\"\"\n",
    "    # First, filter out all but what we need: the doc, annotations, and any set members\n",
    "    d = dict(cls.__dict__)\n",
    "    _keep = [\"__doc__\", \"__annotations__\"]\n",
    "    for key in list(d):\n",
    "        if key.startswith('_') and key not in _keep:\n",
    "            d.pop(key, None)\n",
    "    names = [] # Names for our enum\n",
    "    keys = []\n",
    "    # Next get our members with out values\n",
    "    for name, typ in list(d[\"__annotations__\"].items()):\n",
    "        if not (typ == Member or typ == Mem) and \"Member[\" not in str(typ):\n",
    "            continue\n",
    "        doc = getattr(typ, \"doc\", \"An enumeration.\")\n",
    "        value = d.get(name, name.lower())\n",
    "        names.append([name, (doc, value)])\n",
    "        keys.append(name)\n",
    "    \n",
    "    # For any values set like a regular enum\n",
    "    for name in d:\n",
    "        if name not in keys and not name.startswith(\"_\"):\n",
    "            names.append([name, (\"An enumeration.\", getattr(cls, name))])\n",
    "            keys.append(name)\n",
    "    new_cls = DocumentedEnum(value=cls.__name__, names=names)\n",
    "    new_cls.__doc__ = cls.__doc__\n",
    "    return new_cls"
   ]
  },
  {
   "cell_type": "code",
   "execution_count": null,
   "id": "4641a7e2-c410-4752-adaf-2d00750fdf83",
   "metadata": {},
   "outputs": [],
   "source": [
    "#hide\n",
    "class DaysOfWeek:\n",
    "    MONDAY:Member[\"First day of the week\"]\n",
    "    TUESDAY:Member\n",
    "    WEDNESDAY:Member[\"Third day of the week\"] = \"Wed\"\n",
    "    THURSDAY:int = 0\n",
    "    \n",
    "NewAnnotation = _assign_annotations(DaysOfWeek)\n",
    "test_eq(NewAnnotation.MONDAY, \"monday\")\n",
    "test_eq(NewAnnotation.MONDAY.__doc__, \"First day of the week\")\n",
    "test_eq(NewAnnotation.TUESDAY, \"tuesday\")\n",
    "test_eq(NewAnnotation.TUESDAY.__doc__, \"An enumeration.\")\n",
    "test_eq(NewAnnotation.WEDNESDAY, \"Wed\")\n",
    "test_eq(NewAnnotation.WEDNESDAY.__doc__, \"Third day of the week\")\n",
    "test_eq(NewAnnotation.THURSDAY, 0)\n",
    "test_eq(NewAnnotation.THURSDAY.__doc__, \"An enumeration.\")"
   ]
  },
  {
   "cell_type": "code",
   "execution_count": null,
   "id": "2917cb96-0d71-4019-8c9d-8226ffcb59df",
   "metadata": {},
   "outputs": [],
   "source": [
    "#hide\n",
    "class DaysOfWeek:\n",
    "    MONDAY:Mem[\"First day of the week\"]\n",
    "    TUESDAY:Mem\n",
    "    WEDNESDAY:Mem[\"Third day of the week\"] = \"Wed\"\n",
    "    THURSDAY:int = 0\n",
    "    \n",
    "NewAnnotation = _assign_annotations(DaysOfWeek)\n",
    "test_eq(NewAnnotation.MONDAY, \"monday\")\n",
    "test_eq(NewAnnotation.MONDAY.__doc__, \"First day of the week\")\n",
    "test_eq(NewAnnotation.TUESDAY, \"tuesday\")\n",
    "test_eq(NewAnnotation.TUESDAY.__doc__, \"An enumeration.\")\n",
    "test_eq(NewAnnotation.WEDNESDAY, \"Wed\")\n",
    "test_eq(NewAnnotation.WEDNESDAY.__doc__, \"Third day of the week\")\n",
    "test_eq(NewAnnotation.THURSDAY, 0)\n",
    "test_eq(NewAnnotation.THURSDAY.__doc__, \"An enumeration.\")"
   ]
  },
  {
   "cell_type": "markdown",
   "id": "347f18bb-c5f3-454f-8b5c-586d2a5359fc",
   "metadata": {},
   "source": [
    "## enumify"
   ]
  },
  {
   "cell_type": "code",
   "execution_count": null,
   "id": "f62df248-9975-4e5b-9519-f441afd53b2d",
   "metadata": {},
   "outputs": [],
   "source": [
    "#export\n",
    "def enumify(cls=None):\n",
    "    \"\"\"\n",
    "    A decorator to turn `cls` into an Enum class with member values as property names, and potentially with documentation\n",
    "    \n",
    "    Should be documented with the `Member` type with the following annotation:\n",
    "    ```python\n",
    "    from fastreinference.typing import Member\n",
    "    @enumify\n",
    "    class MyClass:\n",
    "      NAME:Member[\"Some documented enum value\"]\n",
    "      name_two:Member # An undocumented enum value\n",
    "      name_three:Member[\"Some documentation\"] = \"some value\"\n",
    "    ```\n",
    "    \n",
    "    Can also use the shorthand `Mem` type\n",
    "    \"\"\"\n",
    "    def wrap(cls): return _assign_annotations(cls)\n",
    "    if cls is None:\n",
    "        return partial(enumify)\n",
    "    return wrap(cls)"
   ]
  },
  {
   "cell_type": "code",
   "execution_count": null,
   "id": "8a2ab1be-9b54-4d5e-922f-c3f6c9dffa67",
   "metadata": {},
   "outputs": [],
   "source": [
    "@enumify\n",
    "class DaysOfWeek:\n",
    "    MONDAY:Member[\"First day of the week\"]\n",
    "    TUESDAY:Member\n",
    "    WEDNESDAY:Member[\"Third day of the week\"] = \"Wed\"\n",
    "    THURSDAY:Member[\"Fourth day of the week\"] = 0\n",
    "    \n",
    "test_eq(DaysOfWeek.MONDAY, \"monday\")\n",
    "test_eq(DaysOfWeek.MONDAY.__doc__, \"First day of the week\")\n",
    "test_eq(DaysOfWeek.TUESDAY, \"tuesday\")\n",
    "test_eq(DaysOfWeek.TUESDAY.__doc__, \"An enumeration.\")\n",
    "test_eq(DaysOfWeek.WEDNESDAY, \"Wed\")\n",
    "test_eq(DaysOfWeek.WEDNESDAY.__doc__, \"Third day of the week\")\n",
    "test_eq(DaysOfWeek.THURSDAY, 0)\n",
    "test_eq(DaysOfWeek.THURSDAY.__doc__, \"Fourth day of the week\")"
   ]
  },
  {
   "cell_type": "code",
   "execution_count": null,
   "id": "fcf5b707-12d0-460e-a554-2f745b26c598",
   "metadata": {},
   "outputs": [],
   "source": [
    "@enumify\n",
    "class DaysOfWeek:\n",
    "    MONDAY:Mem[\"First day of the week\"]\n",
    "    TUESDAY:Mem\n",
    "    WEDNESDAY:Mem[\"Third day of the week\"] = \"Wed\"\n",
    "    THURSDAY:Mem[\"Fourth day of the week\"] = 0\n",
    "    \n",
    "test_eq(DaysOfWeek.MONDAY, \"monday\")\n",
    "test_eq(DaysOfWeek.MONDAY.__doc__, \"First day of the week\")\n",
    "test_eq(DaysOfWeek.TUESDAY, \"tuesday\")\n",
    "test_eq(DaysOfWeek.TUESDAY.__doc__, \"An enumeration.\")\n",
    "test_eq(DaysOfWeek.WEDNESDAY, \"Wed\")\n",
    "test_eq(DaysOfWeek.WEDNESDAY.__doc__, \"Third day of the week\")\n",
    "test_eq(DaysOfWeek.THURSDAY, 0)\n",
    "test_eq(DaysOfWeek.THURSDAY.__doc__, \"Fourth day of the week\")"
   ]
  }
 ],
 "metadata": {
  "kernelspec": {
   "display_name": "Python 3 (ipykernel)",
   "language": "python",
   "name": "python3"
  }
 },
 "nbformat": 4,
 "nbformat_minor": 5
}
